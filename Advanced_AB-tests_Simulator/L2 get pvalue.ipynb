{
 "cells": [
  {
   "cell_type": "markdown",
   "metadata": {},
   "source": [
    "Теперь мы начнём реализовывать центральный блок платформы A/B тестирования ExperimentsService, который отвечает за оценку экспериментов."
   ]
  },
  {
   "cell_type": "markdown",
   "metadata": {},
   "source": [
    "Данные для оценки экспериментов можно брать из класса MetricsService."
   ]
  },
  {
   "cell_type": "markdown",
   "metadata": {},
   "source": [
    "> Задача 3. Реализация метода для проверки статистической значимости\n",
    " \n",
    "\n",
    "Напишите метод get_pvalue класса ExperimentsService."
   ]
  },
  {
   "cell_type": "code",
   "execution_count": null,
   "metadata": {},
   "outputs": [],
   "source": [
    "import numpy as np\n",
    "from pydantic import BaseModel\n",
    "from scipy import stats\n",
    "\n",
    "\n",
    "class Design(BaseModel):\n",
    "    \"\"\"Дата-класс с описание параметров эксперимента.\"\"\"\n",
    "    statistical_test: str\n",
    "\n",
    "\n",
    "class ExperimentsService:\n",
    "\n",
    "    def get_pvalue(self, metrics_a_group, metrics_b_group, design):\n",
    "        \"\"\"Применяет статтест, возвращает pvalue.\n",
    "\n",
    "        :param metrics_a_group (np.array): массив значений метрик группы A\n",
    "        :param metrics_a_group (np.array): массив значений метрик группы B\n",
    "        :param design (Design): объект с данными, описывающий параметры эксперимента\n",
    "        :return (float): значение p-value\n",
    "        \"\"\"\n",
    "        if design.statistical_test == 'ttest':\n",
    "            pvalue = stats.ttest_ind(metrics_a_group, metrics_b_group).pvalue\n",
    "        else:\n",
    "            raise ValueError('Неверный design.statistical_test')\n",
    "\n",
    "        return pvalue\n",
    "\n",
    "\n",
    "if __name__ == '__main__':\n",
    "    metrics_a_group = np.array([964, 1123, 962, 1213, 914, 906, 951, 1033, 987, 1082])\n",
    "    metrics_b_group = np.array([952, 1064, 1091, 1079, 1158, 921, 1161, 1064, 819, 1065])\n",
    "    design = Design(statistical_test='ttest')\n",
    "    ideal_pvalue = 0.612219\n",
    "\n",
    "    experiments_service = ExperimentsService()\n",
    "    pvalue = experiments_service.get_pvalue(metrics_a_group, metrics_b_group, design)\n",
    "    np.testing.assert_almost_equal(ideal_pvalue, pvalue, decimal=4)\n",
    "    print('simple test passed')"
   ]
  }
 ],
 "metadata": {
  "kernelspec": {
   "display_name": "test",
   "language": "python",
   "name": "test"
  },
  "language_info": {
   "name": "python",
   "version": "3.9.12"
  }
 },
 "nbformat": 4,
 "nbformat_minor": 2
}
