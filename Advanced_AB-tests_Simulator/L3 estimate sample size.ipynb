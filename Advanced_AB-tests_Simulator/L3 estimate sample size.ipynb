{
 "cells": [
  {
   "cell_type": "markdown",
   "metadata": {},
   "source": [
    "> Задача 3. Реализация метода оценки размера выборки\n",
    "  \n",
    "\n",
    "Реализуйте функцию для оценки размера групп."
   ]
  },
  {
   "cell_type": "markdown",
   "metadata": {},
   "source": [
    "Напишите метод estimate_sample_size класса ExperimentsService."
   ]
  },
  {
   "cell_type": "code",
   "execution_count": null,
   "metadata": {},
   "outputs": [],
   "source": [
    "import numpy as np\n",
    "import pandas as pd\n",
    "from pydantic import BaseModel\n",
    "from scipy import stats\n",
    "\n",
    "\n",
    "class Design(BaseModel):\n",
    "    \"\"\"Дата-класс с описание параметров эксперимента.\n",
    "    \n",
    "    statistical_test - тип статтеста. ['ttest']\n",
    "    effect - размер эффекта в процентах\n",
    "    alpha - уровень значимости\n",
    "    beta - допустимая вероятность ошибки II рода\n",
    "    \"\"\"\n",
    "    statistical_test: str\n",
    "    effect: float\n",
    "    alpha: float\n",
    "    beta: float\n",
    "\n",
    "\n",
    "class ExperimentsService:\n",
    "\n",
    "    def estimate_sample_size(self, metrics, design):\n",
    "        \"\"\"Оцениваем необходимый размер выборки для проверки гипотезы о равенстве средних.\n",
    "        \n",
    "        Для метрик, у которых для одного пользователя одно значение просто вычислите размер групп по формуле.\n",
    "        Для метрик, у которых для одного пользователя несколько значений (например, response_time),\n",
    "            вычислите необходимый объём данных и разделите его на среднее количество значений на одного пользователя.\n",
    "            Пример, если в таблице metrics 1000 наблюдений и 100 уникальных пользователей, и для эксперимента нужно\n",
    "            302 наблюдения, то размер групп будет 31, тк в среднем на одного пользователя 10 наблюдений, то получится\n",
    "            порядка 310 наблюдений в группе.\n",
    "\n",
    "        :param metrics (pd.DataFrame): датафрейм со значениями метрик из MetricsService.\n",
    "            columns=['user_id', 'metric']\n",
    "        :param design (Design): объект с данными, описывающий параметры эксперимента\n",
    "        :return (int): минимально необходимый размер групп (количество пользователей)\n",
    "        \"\"\"\n",
    "        # YOUR_CODE_HERE\n",
    "\n",
    "        mean = metrics['metric'].mean()\n",
    "        epsilon = design.effect / 100 * mean\n",
    "        std = np.std(metrics['metric'])\n",
    "        t_alpha = stats.norm.ppf(1 - design.alpha / 2, loc=0, scale=1)\n",
    "        t_beta = stats.norm.ppf(1 - design.beta, loc=0, scale=1)\n",
    "        z_scores_sum_squared = (t_alpha + t_beta) ** 2\n",
    "\n",
    "        if len(metrics) == len(metrics.groupby('user_id')['metric'].mean().reset_index()):\n",
    "            sample_size = z_scores_sum_squared * (2 * std ** 2) / (epsilon ** 2)\n",
    "        else:\n",
    "            unique_users = metrics['user_id'].nunique()\n",
    "            observations = len(metrics)\n",
    "            observations_per_user = observations / unique_users\n",
    "            sample_size = (z_scores_sum_squared * (2 * std ** 2) / (epsilon ** 2)) / observations_per_user\n",
    "\n",
    "        return int(np.ceil(sample_size))\n",
    "\n",
    "\n",
    "if __name__ == '__main__':\n",
    "    metrics = pd.DataFrame({\n",
    "        'user_id': [str(i) for i in range(10)],\n",
    "        'metric': [i for i in range(10)]\n",
    "    })\n",
    "    design = Design(\n",
    "        statistical_test='ttest',\n",
    "        alpha=0.05,\n",
    "        beta=0.1,\n",
    "        effect=3.\n",
    "    )\n",
    "    ideal_sample_size = 9513\n",
    "\n",
    "    experiments_service = ExperimentsService()\n",
    "    sample_size = experiments_service.estimate_sample_size(metrics, design)\n",
    "    assert sample_size == ideal_sample_size, 'Неверно'\n",
    "    print('simple test passed')"
   ]
  }
 ],
 "metadata": {
  "kernelspec": {
   "display_name": "test",
   "language": "python",
   "name": "test"
  },
  "language_info": {
   "name": "python",
   "version": "3.9.12"
  }
 },
 "nbformat": 4,
 "nbformat_minor": 2
}
