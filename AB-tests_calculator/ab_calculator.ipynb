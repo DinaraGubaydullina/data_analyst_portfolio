{
 "cells": [
  {
   "cell_type": "code",
   "execution_count": null,
   "id": "477cba20",
   "metadata": {},
   "outputs": [],
   "source": [
    "import numpy as np\n",
    "import pandas as pd\n",
    "import scipy.stats as stats\n",
    "from scipy.stats import norm, ttest_ind"
   ]
  },
  {
   "cell_type": "markdown",
   "metadata": {},
   "source": [
    "## Формула для оценки размера выборки\n",
    "\n",
    "$$n > \\dfrac{\\left[ \\Phi^{-1} \\Bigl( 1-\\dfrac{\\alpha}{2} \\Bigr) + \\Phi^{-1} \\Bigl( 1-\\beta \\Bigr) \\right]^2 (\\sigma_X^2 + \\sigma_Y^2)}{\\varepsilon^2}$$"
   ]
  },
  {
   "cell_type": "markdown",
   "metadata": {},
   "source": [
    "$\\alpha$ - вероятность ошибки I рода, он же уровень значимости - договорились, что фиксируем на уровне 5% (0.05)\n",
    "\n",
    "$\\beta$ - вероятность ошибки II рода, с какой вероятностью мы скажем, что эффекта нет, когда он на самом деле есть - договорились, что фиксируем на уровне 20% (0.2)\n",
    "\n",
    "$\\varepsilon$ - минимальный детектируемый эффект - MDE\n",
    "\n",
    "$\\sigma{^2}$ - дисперсия в оригинале и вариации, для упрощения возьмем, что дисперсии равны, тогда вместо $(\\sigma_X^2 + \\sigma_Y^2)$ возьмём 2$\\sigma{^2}$\n",
    "\n",
    "\n",
    "$\\Phi^{-1}$ - обратная функция нормального распределения\n",
    "- При $\\alpha$ = 0.05 получаем $\\Phi^{-1}(1-\\dfrac{\\alpha}{2})$ = 1.96\n",
    "- При $\\beta$ = 0.2 получаем $\\Phi^{-1}(1-\\alpha)$ = 0.84\n",
    "\n",
    "Так как конверсию можно представить распределением Бернулли, то дисперсия - это произведение вероятности конверсии p и вероятности неудачи (1-p)\n",
    "\n",
    "Имеем:\n",
    "$$n > \\dfrac{16*p*(100-p)}{MDE^2}$$"
   ]
  },
  {
   "cell_type": "markdown",
   "metadata": {},
   "source": [
    "## Определение MDE и размера выборки перед тестом"
   ]
  },
  {
   "cell_type": "code",
   "execution_count": null,
   "id": "3ca7e82b",
   "metadata": {},
   "outputs": [],
   "source": [
    "def get_table_sample_size(p, effects):\n",
    "    results = []\n",
    "    for eff in effects:\n",
    "        sample_size = int(np.ceil(16 * p * (100-p) / (eff**2)))\n",
    "        results.append(sample_size)\n",
    "    \n",
    "    df_results = pd.DataFrame()\n",
    "    df_results['sample_size'] = results\n",
    "    \n",
    "    df_results.index = pd.MultiIndex(\n",
    "        levels=[[f'{x}%' for x in effects]],\n",
    "        codes=[np.arange(len(effects))],\n",
    "        names=['effects']\n",
    "    )\n",
    "    \n",
    "    return df_results"
   ]
  },
  {
   "cell_type": "code",
   "execution_count": null,
   "id": "1a9e586f",
   "metadata": {},
   "outputs": [],
   "source": [
    "effects = np.linspace(0.1, 2, 20)"
   ]
  },
  {
   "cell_type": "code",
   "execution_count": null,
   "id": "1ef0658a",
   "metadata": {},
   "outputs": [],
   "source": [
    "p = 10 #конверсия на исторических данных"
   ]
  },
  {
   "cell_type": "code",
   "execution_count": null,
   "id": "6a35e83f",
   "metadata": {},
   "outputs": [],
   "source": [
    "get_table_sample_size(p, effects)"
   ]
  },
  {
   "cell_type": "markdown",
   "metadata": {},
   "source": [
    "## Относительный MDE и размер выборки"
   ]
  },
  {
   "cell_type": "code",
   "execution_count": null,
   "id": "4fb419bb",
   "metadata": {},
   "outputs": [],
   "source": [
    "def get_table_sample_size(p, effects):\n",
    "    results = []\n",
    "    for eff in effects:\n",
    "        eff_abs = eff * p\n",
    "        sample_size = int(np.ceil(16 * p * (100-p) / (eff_abs**2)))\n",
    "        results.append(sample_size)\n",
    "    \n",
    "    df_results = pd.DataFrame()\n",
    "    df_results['sample_size'] = results\n",
    "    \n",
    "    df_results.index = pd.MultiIndex(\n",
    "        levels=[[f'{x}%' for x in effects]],\n",
    "        codes=[np.arange(len(effects))],\n",
    "        names=['effects']\n",
    "    )\n",
    "    \n",
    "    return df_results"
   ]
  },
  {
   "cell_type": "code",
   "execution_count": null,
   "id": "701713ac",
   "metadata": {},
   "outputs": [],
   "source": [
    "effects = np.linspace(0.01, 0.05, 5)\n",
    "effects"
   ]
  },
  {
   "cell_type": "code",
   "execution_count": null,
   "id": "ea5f1ecc",
   "metadata": {},
   "outputs": [],
   "source": [
    "p = 10"
   ]
  },
  {
   "cell_type": "code",
   "execution_count": null,
   "id": "3033b9f7",
   "metadata": {},
   "outputs": [],
   "source": [
    "get_table_sample_size(p, effects)"
   ]
  },
  {
   "cell_type": "markdown",
   "metadata": {},
   "source": [
    "## Расчёт p-value"
   ]
  },
  {
   "cell_type": "code",
   "execution_count": null,
   "id": "8e742d70",
   "metadata": {},
   "outputs": [],
   "source": [
    "a_group_visits = 10000\n",
    "a_group_conversions = 500\n",
    "b_group_visits = 10100\n",
    "b_group_conversions = 605\n",
    "\n",
    "a_group_conv = a_group_conversions/a_group_visits\n",
    "b_group_conv = b_group_conversions/b_group_visits"
   ]
  },
  {
   "cell_type": "code",
   "execution_count": null,
   "id": "d3915c8b",
   "metadata": {},
   "outputs": [],
   "source": [
    "print(f'Конверсия в первой группе: {round(a_group_conv*100, 2)}%, конверсия во второй группе: {round(b_group_conv*100, 2)}%')"
   ]
  },
  {
   "cell_type": "code",
   "execution_count": null,
   "id": "4984c3a1",
   "metadata": {},
   "outputs": [],
   "source": [
    "ir = round((b_group_conv / a_group_conv - 1) * 100, 2)\n",
    "print(f'Относительное изменение: {ir} %')"
   ]
  },
  {
   "cell_type": "markdown",
   "metadata": {},
   "source": [
    "Так как данных много и наблюдений независимы, можно использовать Z-тест"
   ]
  },
  {
   "cell_type": "code",
   "execution_count": null,
   "id": "f11ce9ee",
   "metadata": {},
   "outputs": [],
   "source": [
    "def z_test(a_conv: float, b_conv: float, size_a: int, size_b: int) -> float:\n",
    "    \n",
    "    sigma = np.sqrt(a_conv*(1-a_conv)/size_a + b_conv*(1-b_conv)/size_b)\n",
    "    Z = abs(b_conv-a_conv)/sigma\n",
    "    \n",
    "    return norm.sf(Z, scale=1, loc=0), Z"
   ]
  },
  {
   "cell_type": "code",
   "execution_count": null,
   "id": "7d5fa2f3",
   "metadata": {},
   "outputs": [],
   "source": [
    "p_value, Z = z_test(a_group_conv, b_group_conv, a_group_visits, b_group_visits)\n",
    "print('P-value :', round(p_value, 4))\n",
    "print('Z:', Z)"
   ]
  },
  {
   "cell_type": "code",
   "execution_count": null,
   "id": "ed5fd017",
   "metadata": {},
   "outputs": [],
   "source": [
    "def another_z_test(a_conv: float, b_conv: float, size_a: int, size_b: int) -> float:\n",
    "    \n",
    "    p = (a_conv*size_a + b_conv*size_b)/(size_a+size_b)\n",
    "    \n",
    "    sigma = np.sqrt(p*(1-p)*(1/size_a + 1/size_b))\n",
    "    Z = abs(b_conv-a_conv)/sigma\n",
    "    \n",
    "    return norm.sf(Z, scale=1, loc=0)"
   ]
  },
  {
   "cell_type": "code",
   "execution_count": null,
   "id": "912ff3ed",
   "metadata": {},
   "outputs": [],
   "source": [
    "print('P-value:', round(another_z_test(a_group_conv, b_group_conv, a_group_visits, b_group_visits), 4))"
   ]
  },
  {
   "cell_type": "markdown",
   "metadata": {},
   "source": [
    "## Продолжительность теста"
   ]
  },
  {
   "cell_type": "code",
   "execution_count": null,
   "id": "0adfef8b",
   "metadata": {},
   "outputs": [],
   "source": [
    "from datetime import date\n",
    "\n",
    "start_date = date(2024, 1, 29)\n",
    "end_date = date(2024, 2, 26)\n",
    "delta = end_date - start_date\n",
    "print(delta.days)"
   ]
  }
 ],
 "metadata": {
  "interpreter": {
   "hash": "b3ba2566441a7c06988d0923437866b63cedc61552a5af99d1f4fb67d367b25f"
  },
  "kernelspec": {
   "display_name": "test",
   "language": "python",
   "name": "test"
  },
  "language_info": {
   "codemirror_mode": {
    "name": "ipython",
    "version": 3
   },
   "file_extension": ".py",
   "mimetype": "text/x-python",
   "name": "python",
   "nbconvert_exporter": "python",
   "pygments_lexer": "ipython3",
   "version": "3.9.12"
  }
 },
 "nbformat": 4,
 "nbformat_minor": 5
}
